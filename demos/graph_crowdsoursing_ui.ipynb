{
  "nbformat": 4,
  "nbformat_minor": 0,
  "metadata": {
    "colab": {
      "provenance": [],
      "authorship_tag": "ABX9TyMKFw4UjcHywe+4wBxdxJiL",
      "include_colab_link": true
    },
    "kernelspec": {
      "name": "python3",
      "display_name": "Python 3"
    },
    "language_info": {
      "name": "python"
    }
  },
  "cells": [
    {
      "cell_type": "markdown",
      "metadata": {
        "id": "view-in-github",
        "colab_type": "text"
      },
      "source": [
        "<a href=\"https://colab.research.google.com/github/vifirsanova/empi/blob/main/demos/graph_crowdsoursing_ui.ipynb\" target=\"_parent\"><img src=\"https://colab.research.google.com/assets/colab-badge.svg\" alt=\"Open In Colab\"/></a>"
      ]
    },
    {
      "cell_type": "markdown",
      "source": [
        "**Скрипт для заполнения базы знаний EMPI AI**\n",
        "\n",
        "*Пользовательский интерфейс для экспертов и волонтеров, которые хотят внести свой вклад в развитие проекта EMPI AI.*\n",
        "\n",
        "1. Загрузите в Google Colab актуальную версию датасета EMPI.\n",
        "2. Следуйте инструкциям ниже для пополнения графа новой информацией.\n",
        "3. Скачайте результат работы скрипта.\n",
        "4. Загрузите результат в репозиторий проекта.\n",
        "\n",
        "**Отказ от ответственности**\n",
        "\n",
        "Автор демо-версии ПО не несет ответственности за точность, полноту или качество предоставленной в выдачах ПО информации. Никакие претензии за материальный или нематериальный ущерб, вызванный использованием или неиспользованием предоставленной информации не принимаются.\n",
        "\n",
        "**Обратная связь**\n",
        "\n",
        "Автор демо-версии: [Виктория Фирсанова](https://vifirsanova.github.io/).\n",
        "Свою обратную связь вы можете отправить в Telegram @vifirsanova или на почту vifirsanova@gmail.com. Принимаются любые пожелания и предложения по разработке продукта."
      ],
      "metadata": {
        "id": "i-tvAcChiDcm"
      }
    },
    {
      "cell_type": "code",
      "source": [
        "import json\n",
        "\n",
        "#@title Пользовательский интерфейс для заполнения базы знаний EMPI\n",
        "#import json\n",
        "\n",
        "#@markdown Какую из областей графа вы хотите заполнить?\n",
        "\n",
        "#@markdown **Варианты:**\n",
        "\n",
        "#@markdown - персональные данные\n",
        "#@markdown - дизайн\n",
        "#@markdown - полезная информация\n",
        "\n",
        "#@markdown Выберите одну из опций и введите ее название в поле KEY\n",
        "\n",
        "KEY = \"персональные данные\" #@param {type:\"string\"}\n",
        "\n",
        "#@markdown Запустите ячейку и следуйте инструкциям ниже..\n",
        "\n",
        "def add_data_to_json(file_path, key):\n",
        "  \"\"\"\n",
        "  Функция для заполнения базы знания в формате JSON\n",
        "  Принимает на вход последовательно обновления от пользователя-эксперта\n",
        "  Сохраняет измененный файл\n",
        "  file_path: str, название файла\n",
        "  \"\"\"\n",
        "  # открыть данные из JSON-файла\n",
        "  with open(file_path, 'r') as f:\n",
        "    data = json.load(f)\n",
        "\n",
        "  # обработка данных от пользователя-эксперта\n",
        "  if key == 'персональные данные':\n",
        "    values = input(\"Введите список персональных данных для шифрования через запятую: \").split(', ')\n",
        "    for v in values:\n",
        "      # всем данным присваивается метка \"зашифровано\"\n",
        "      data['empi'][key][v] = 'зашифровано'\n",
        "\n",
        "  elif key == 'дизайн':\n",
        "    values = input(\"Введите список технологий, используемых в EMPI, через запятую: \").split(', ')\n",
        "    for v in values:\n",
        "      data['empi'][key][v] = dict()\n",
        "      data['empi'][key][v]['технология'] = input(f\"Введите название типа алгоритма для {v}: \")\n",
        "      data['empi'][key][v]['принцип работы'] = input(f\"Введите краткое описание принципа работы алгоритма для {v}: \")\n",
        "      data['empi'][key][v]['для кого'] = input(f\"Введите, для кого {v} предназначается, через запятую: \").split(', ')\n",
        "\n",
        "  elif key == 'полезная информация':\n",
        "    for topic in data['empi'][key]:\n",
        "      values_k = input(f\"Введите список заголовков полезной информации по теме =={topic}== через запятую: \").split(', ')\n",
        "      values = input(f\"Введите списком тексты для каждого из заголовков по теме =={topic}== через @: \").split('@ ')\n",
        "      for i in range(len(values_k)):\n",
        "        current_key = values_k[i]\n",
        "        data['empi'][key][topic][current_key] = values[i]\n",
        "\n",
        "  # запись файла\n",
        "  with open(\"updated.json\", \"w\", encoding=\"utf-8\") as outfile:\n",
        "        json.dump(data, outfile, ensure_ascii=False)\n",
        "\n",
        "  print(\"Данные успешно обновлены.\")\n",
        "\n",
        "# название файла для обработки\n",
        "json_file_path = 'updated.json'\n",
        "\n",
        "# обработка\n",
        "add_data_to_json(json_file_path, key=KEY)"
      ],
      "metadata": {
        "colab": {
          "base_uri": "https://localhost:8080/"
        },
        "id": "E_pOgqHiXYoD",
        "outputId": "1c9851fd-acb5-40df-a7be-028e785581c4",
        "cellView": "form"
      },
      "execution_count": 2,
      "outputs": [
        {
          "output_type": "stream",
          "name": "stdout",
          "text": [
            "Введите список персональных данных для шифрования через запятую: телефон, email\n",
            "Данные успешно обновлены.\n"
          ]
        }
      ]
    }
  ]
}