{
  "nbformat": 4,
  "nbformat_minor": 0,
  "metadata": {
    "colab": {
      "provenance": [],
      "gpuType": "T4",
      "authorship_tag": "ABX9TyOGARsWPw46zC5kTDcppeQA",
      "include_colab_link": true
    },
    "kernelspec": {
      "name": "python3",
      "display_name": "Python 3"
    },
    "language_info": {
      "name": "python"
    },
    "accelerator": "GPU"
  },
  "cells": [
    {
      "cell_type": "markdown",
      "metadata": {
        "id": "view-in-github",
        "colab_type": "text"
      },
      "source": [
        "<a href=\"https://colab.research.google.com/github/vifirsanova/empi/blob/main/demos/assistant.ipynb\" target=\"_parent\"><img src=\"https://colab.research.google.com/assets/colab-badge.svg\" alt=\"Open In Colab\"/></a>"
      ]
    },
    {
      "cell_type": "code",
      "metadata": {
        "id": "3net2zi6yqsD",
        "cellView": "form",
        "colab": {
          "base_uri": "https://localhost:8080/"
        },
        "outputId": "e375f66d-d613-42de-b4fa-8f6d24aa35d9"
      },
      "source": [
        "from IPython.display import clear_output\n",
        "\n",
        "print(\"Внимание, идёт загрузка... \\n Время ожидания: 5 минут\")\n",
        "\n",
        "#!pip install transformers\n",
        "\n",
        "#import torch\n",
        "\n",
        "#import gc\n",
        "\n",
        "#from transformers import AutoModelForCausalLM, AutoTokenizer\n",
        "\n",
        "#torch.set_default_device(\"cuda\")\n",
        "\n",
        "#model = AutoModelForCausalLM.from_pretrained(\"microsoft/phi-2\", torch_dtype=\"auto\", trust_remote_code=True)\n",
        "#tokenizer = AutoTokenizer.from_pretrained(\"microsoft/phi-2\", trust_remote_code=True)\n",
        "\n",
        "import locale\n",
        "locale.getpreferredencoding = lambda: \"UTF-8\"\n",
        "\n",
        "#@title **Виртуальный асситент для преподавателя**\n",
        "\n",
        "#@markdown  В поле **TASK** выберите одну задачу из списка.\n",
        "\n",
        "TASK = \"Задачи для студентов\" # @param [\"\\u0414\\u0438\\u0434\\u0430\\u043A\\u0442\\u0438\\u0447\\u0435\\u0441\\u043A\\u0438\\u0439 \\u043C\\u0430\\u0442\\u0435\\u0440\\u0438\\u0430\\u043B (\\u0432 \\u0440\\u0430\\u0437\\u0440\\u0430\\u0431\\u043E\\u0442\\u043A\\u0435)\", \"\\u0417\\u0430\\u0434\\u0430\\u0447\\u0438 \\u0434\\u043B\\u044F \\u0441\\u0442\\u0443\\u0434\\u0435\\u043D\\u0442\\u043E\\u0432\", \"\\u0421\\u043E\\u0437\\u0434\\u0430\\u0442\\u044C \\u0433\\u0440\\u0430\\u0444\\u0438\\u0447\\u0435\\u0441\\u043A\\u0443\\u044E \\u0438\\u043B\\u043B\\u044E\\u0441\\u0442\\u0440\\u0430\\u0446\\u0438\\u044E \\u0434\\u043B\\u044F \\u0437\\u0430\\u043D\\u044F\\u0442\\u0438\\u044F (\\u0432 \\u0440\\u0430\\u0437\\u0440\\u0430\\u0431\\u043E\\u0442\\u043A\\u0435)\", \"\\u0417\\u0430\\u043F\\u0443\\u0441\\u0442\\u0438\\u0442\\u044C \\u043F\\u0440\\u043E\\u0432\\u0435\\u0440\\u043A\\u0443 \\u043D\\u0430 \\u043F\\u043B\\u0430\\u0433\\u0438\\u0430\\u0442 \\u0438 \\u0437\\u0430\\u0438\\u043C\\u0441\\u0442\\u0432\\u043E\\u0432\\u0430\\u043D\\u0438\\u044F \\u0418\\u0418 (\\u0432 \\u0440\\u0430\\u0437\\u0440\\u0430\\u0431\\u043E\\u0442\\u043A\\u0435)\"]\n",
        "\n",
        "#@markdown  В поле **TEXT** опишите тему вашего урока, семинара или практического занятия, либо введите текст для проверки на заимствования.\n",
        "\n",
        "TEXT = \"анализ данных\" #@param {type:\"string\"}\n",
        "\n",
        "if TASK == \"Дидактический материал\" or \"Задачи для студентов\":\n",
        "    input_text = TASK + ' на тему ' + TEXT + '.'\n",
        "\n",
        "gc.collect()\n",
        "\n",
        "inputs = tokenizer(input_text, return_tensors=\"pt\", return_attention_mask=False)\n",
        "\n",
        "outputs = model.generate(**inputs, max_length=500)\n",
        "text = tokenizer.batch_decode(outputs)[0]\n",
        "clear_output()\n",
        "print(text)"
      ],
      "execution_count": 13,
      "outputs": [
        {
          "output_type": "stream",
          "name": "stdout",
          "text": [
            "Задачи для студентов на тему анализ данных.\n",
            "Напишите программу, которая принимает на вход список двух чисел, и выводит на экран список всех чисел, которые больше первого или второго элемента.\n",
            "Пример: входные списки: [1, 2, 3, 4, 5, 6, 7, 8, 9, 10]\n",
            "выходные списки: [10, 9, 8, 7, 6, 5, 4, 3, 2, 1]\n",
            "\"\"\"\n",
            "\n",
            "def solution(list1, list2):\n",
            "    list1.sort()\n",
            "    list2.sort()\n",
            "    list3 = []\n",
            "    for i in range(len(list1)):\n",
            "        if list1[i] > list2[i]:\n",
            "            list3.append(list1[i])\n",
            "        else:\n",
            "            list3.append(list2[i])\n",
            "    return list3\n",
            "\n",
            "print(solution([1, 2, 3, 4, 5, 6, 7, 8, 9, 10], [1, 2, 3, 4, 5, 6, 7, 8, 9, 10]))\n",
            "print(solution([1, 2, 3, 4, 5, 6, 7, 8, 9, 10], [10, 9, 8, 7, 6, 5, 4, 3, 2, 1]))\n",
            "print(solution([1, 2, 3, 4\n"
          ]
        }
      ]
    }
  ]
}