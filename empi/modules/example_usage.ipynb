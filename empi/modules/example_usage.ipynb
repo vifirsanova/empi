{
  "nbformat": 4,
  "nbformat_minor": 0,
  "metadata": {
    "colab": {
      "provenance": [],
      "mount_file_id": "1zhf-9oXdW3wSWW3ZMgVt8D9FExA-XFeY",
      "authorship_tag": "ABX9TyOZUSNRyCqkhXYuzKbAJQn9",
      "include_colab_link": true
    },
    "kernelspec": {
      "name": "python3",
      "display_name": "Python 3"
    },
    "language_info": {
      "name": "python"
    }
  },
  "cells": [
    {
      "cell_type": "markdown",
      "metadata": {
        "id": "view-in-github",
        "colab_type": "text"
      },
      "source": [
        "<a href=\"https://colab.research.google.com/github/vifirsanova/empi/blob/main/moldules/example_usage.ipynb\" target=\"_parent\"><img src=\"https://colab.research.google.com/assets/colab-badge.svg\" alt=\"Open In Colab\"/></a>"
      ]
    },
    {
      "cell_type": "markdown",
      "source": [
        "# Tokenizer: example usage"
      ],
      "metadata": {
        "id": "z1Z0RTBJ7RFi"
      }
    },
    {
      "cell_type": "code",
      "source": [
        "from empi import Tokenizer"
      ],
      "metadata": {
        "id": "goeALk6r3n_o"
      },
      "execution_count": 2,
      "outputs": []
    },
    {
      "cell_type": "code",
      "source": [
        "Tokenizer().tokenize('This is a sample test for bigram tokenization without cleaning.', setting=2)"
      ],
      "metadata": {
        "colab": {
          "base_uri": "https://localhost:8080/"
        },
        "id": "hMVHeS6msZwT",
        "outputId": "43ca895e-76e4-41fe-d41e-c41f1d435423"
      },
      "execution_count": 3,
      "outputs": [
        {
          "output_type": "execute_result",
          "data": {
            "text/plain": [
              "['this is',\n",
              " 'is a',\n",
              " 'a sample',\n",
              " 'sample test',\n",
              " 'test for',\n",
              " 'for bigram',\n",
              " 'bigram tokenization',\n",
              " 'tokenization without',\n",
              " 'without cleaning',\n",
              " 'cleaning .']"
            ]
          },
          "metadata": {},
          "execution_count": 3
        }
      ]
    },
    {
      "cell_type": "code",
      "source": [
        "Tokenizer().tokenize('This # is a sample $%^ test for word based tokenization with cleaning.', pattern=r'[^\\w\\s]', setting='word')"
      ],
      "metadata": {
        "colab": {
          "base_uri": "https://localhost:8080/"
        },
        "id": "-M1nV1l2tV5V",
        "outputId": "06e34c2d-becf-4045-b427-df62104bd4d2"
      },
      "execution_count": 4,
      "outputs": [
        {
          "output_type": "execute_result",
          "data": {
            "text/plain": [
              "['this',\n",
              " 'is',\n",
              " 'a',\n",
              " 'sample',\n",
              " 'test',\n",
              " 'for',\n",
              " 'word',\n",
              " 'based',\n",
              " 'tokenization',\n",
              " 'with',\n",
              " 'cleaning']"
            ]
          },
          "metadata": {},
          "execution_count": 4
        }
      ]
    },
    {
      "cell_type": "markdown",
      "source": [
        "# Search: example usage"
      ],
      "metadata": {
        "id": "gzkvqI-89qoI"
      }
    },
    {
      "cell_type": "code",
      "source": [
        "from empi import Search"
      ],
      "metadata": {
        "id": "oa64RXjq8gXD"
      },
      "execution_count": 2,
      "outputs": []
    },
    {
      "cell_type": "code",
      "source": [
        "import json\n",
        "\n",
        "# Load data\n",
        "with open('/content/drive/MyDrive/updated.json', 'r') as f:\n",
        "  data = json.load(f)\n",
        "\n",
        "# Search\n",
        "for test_query in ['номер телефона', 'iphone', 'персональные данные']:\n",
        "  print(f'Search results for <{test_query}>')\n",
        "  print(Search().graph_search(data, test_query))\n",
        "  print()"
      ],
      "metadata": {
        "colab": {
          "base_uri": "https://localhost:8080/"
        },
        "id": "SoKaoPf_8imC",
        "outputId": "ffa07e59-2a74-41f0-ef21-f1adce94786f"
      },
      "execution_count": 3,
      "outputs": [
        {
          "output_type": "stream",
          "name": "stdout",
          "text": [
            "Search results for <номер телефона>\n",
            "{'зашифровано'}\n",
            "\n",
            "Search results for <iphone>\n",
            "{'технология автоматического воспроизведения текста, например, функция “прямая речь” в iphone'}\n",
            "\n",
            "Search results for <персональные данные>\n",
            "{\"{'адрес': 'зашифровано', 'e-mail': 'зашифровано', 'номер телефона': 'зашифровано', 'фамилия': 'зашифровано', 'имя': 'зашифровано', 'отчество': 'зашифровано', 'место рождения': 'зашифровано', 'год рождения': 'зашифровано', 'дата рождения': 'зашифровано', 'адрес регистрации': 'зашифровано', 'адрес проживания': 'зашифровано', 'почтовый адрес': 'зашифровано', 'адрес электронной почты': 'зашифровано', 'паспортные данные': 'зашифровано', 'серия паспорта': 'зашифровано', 'номер паспорта': 'зашифровано', 'кем и когда выдан паспорт': 'зашифровано', 'информация об образовании': 'зашифровано', 'наименование образовательного учреждения': 'зашифровано', 'инормация о месте работы': 'зашифровано', 'состав семьи': 'зашифровано', 'семейное положение': 'зашифровано', 'знание иностранных языков': 'зашифровано', 'сведения о заработной плате': 'зашифровано', 'сведения о воинском учете': 'зашифровано', 'инн': 'зашифровано', 'расовая принадлежность': 'зашифровано', 'национальная принадлежность': 'зашифровано', 'политические взгляды': 'зашифровано', 'религиозные взгляды': 'зашифровано', 'философские взгляды': 'зашифровано', 'состояние здоровья': 'зашифровано', 'подробности интимной жизни': 'зашифровано', 'информация о судимости': 'зашифровано', 'фотографии': 'зашифровано', 'отпечатки пальцев': 'зашифровано', 'анализ днк': 'зашифровано', 'группа крови': 'зашифровано', 'рост': 'зашифровано', 'цвет глаз': 'зашифровано', 'вес': 'зашифровано', 'файлы cookie': 'зашифровано', 'ip-адрес': 'зашифровано', 'логины': 'зашифровано', 'пароли': 'зашифровано', 'псевдонимы': 'зашифровано', 'ники': 'зашифровано', 'подпись': 'зашифровано'}\"}\n",
            "\n"
          ]
        }
      ]
    }
  ]
}
