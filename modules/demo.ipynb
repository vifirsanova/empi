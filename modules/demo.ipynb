{
  "nbformat": 4,
  "nbformat_minor": 0,
  "metadata": {
    "colab": {
      "provenance": [],
      "authorship_tag": "ABX9TyNc5GD6L/ng5dFr+Cy7QfN7",
      "include_colab_link": true
    },
    "kernelspec": {
      "name": "python3",
      "display_name": "Python 3"
    },
    "language_info": {
      "name": "python"
    }
  },
  "cells": [
    {
      "cell_type": "markdown",
      "metadata": {
        "id": "view-in-github",
        "colab_type": "text"
      },
      "source": [
        "<a href=\"https://colab.research.google.com/github/vifirsanova/empi/blob/main/modules/demo.ipynb\" target=\"_parent\"><img src=\"https://colab.research.google.com/assets/colab-badge.svg\" alt=\"Open In Colab\"/></a>"
      ]
    },
    {
      "cell_type": "markdown",
      "source": [
        "# Tokenizer: example usage"
      ],
      "metadata": {
        "id": "z1Z0RTBJ7RFi"
      }
    },
    {
      "cell_type": "code",
      "source": [
        "from empi import Tokenizer"
      ],
      "metadata": {
        "id": "goeALk6r3n_o"
      },
      "execution_count": 2,
      "outputs": []
    },
    {
      "cell_type": "code",
      "source": [
        "Tokenizer().tokenize('This is a sample test for bigram tokenization without cleaning.', setting=2)"
      ],
      "metadata": {
        "colab": {
          "base_uri": "https://localhost:8080/"
        },
        "id": "hMVHeS6msZwT",
        "outputId": "43ca895e-76e4-41fe-d41e-c41f1d435423"
      },
      "execution_count": 3,
      "outputs": [
        {
          "output_type": "execute_result",
          "data": {
            "text/plain": [
              "['this is',\n",
              " 'is a',\n",
              " 'a sample',\n",
              " 'sample test',\n",
              " 'test for',\n",
              " 'for bigram',\n",
              " 'bigram tokenization',\n",
              " 'tokenization without',\n",
              " 'without cleaning',\n",
              " 'cleaning .']"
            ]
          },
          "metadata": {},
          "execution_count": 3
        }
      ]
    },
    {
      "cell_type": "code",
      "source": [
        "Tokenizer().tokenize('This # is a sample $%^ test for word based tokenization with cleaning.', pattern=r'[^\\w\\s]', setting='word')"
      ],
      "metadata": {
        "colab": {
          "base_uri": "https://localhost:8080/"
        },
        "id": "-M1nV1l2tV5V",
        "outputId": "06e34c2d-becf-4045-b427-df62104bd4d2"
      },
      "execution_count": 4,
      "outputs": [
        {
          "output_type": "execute_result",
          "data": {
            "text/plain": [
              "['this',\n",
              " 'is',\n",
              " 'a',\n",
              " 'sample',\n",
              " 'test',\n",
              " 'for',\n",
              " 'word',\n",
              " 'based',\n",
              " 'tokenization',\n",
              " 'with',\n",
              " 'cleaning']"
            ]
          },
          "metadata": {},
          "execution_count": 4
        }
      ]
    }
  ]
}